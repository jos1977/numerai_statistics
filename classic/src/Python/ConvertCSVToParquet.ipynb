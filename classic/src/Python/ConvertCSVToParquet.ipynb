{
 "cells": [
  {
   "cell_type": "code",
   "execution_count": null,
   "metadata": {},
   "outputs": [],
   "source": [
    "import pandas as pd"
   ]
  },
  {
   "cell_type": "code",
   "execution_count": null,
   "metadata": {},
   "outputs": [],
   "source": [
    "df = pd.read_csv(r\"/data/numerai/statistics/classic/app/csv/userProfiles.csv\",sep=\";\")\n",
    "df.to_parquet(r\"/data/numerai/statistics/classic/app/parquet/userProfiles.parquet\")"
   ]
  },
  {
   "cell_type": "code",
   "execution_count": null,
   "metadata": {},
   "outputs": [],
   "source": [
    "df = pd.read_csv(r\"/data/numerai/statistics/classic/app/csv/allDailyModelPerformances.csv\",sep=\";\")\n",
    "df.to_parquet(r\"/data/numerai/statistics/classic/app/parquet/allDailyModelPerformances.parquet\")"
   ]
  },
  {
   "cell_type": "code",
   "execution_count": null,
   "metadata": {},
   "outputs": [],
   "source": [
    "df = pd.read_csv(r\"/data/numerai/statistics/classic/app/csv/allRoundModelPerformances.csv\",sep=\";\")\n",
    "df.to_parquet(r\"/data/numerai/statistics/classic/app/parquet/allRoundModelPerformances.parquet\")"
   ]
  },
  {
   "cell_type": "code",
   "execution_count": null,
   "metadata": {},
   "outputs": [],
   "source": [
    "df = pd.read_csv(r\"/data/numerai/statistics/classic/app/csv/Coinbase_NMRUSD_dailydata.csv\",sep=\";\")\n",
    "df.to_parquet(r\"/data/numerai/statistics/classic/app/parquet/Coinbase_NMRUSD_dailydata.parquet\")"
   ]
  },
  {
   "cell_type": "code",
   "execution_count": null,
   "metadata": {},
   "outputs": [],
   "source": [
    "df = pd.read_csv(r\"/data/numerai/statistics/classic/app/csv/roundDetails.csv\",sep=\";\")\n",
    "df.to_parquet(r\"/data/numerai/statistics/classic/app/parquet/roundDetails.parquet\")"
   ]
  },
  {
   "cell_type": "code",
   "execution_count": null,
   "metadata": {},
   "outputs": [],
   "source": [
    "df = pd.read_csv(r\"/data/numerai/statistics/classic/app/csv/rounds.csv\",sep=\";\")\n",
    "df.to_parquet(r\"/data/numerai/statistics/classic/app/parquet/rounds.parquet\")"
   ]
  },
  {
   "cell_type": "code",
   "execution_count": null,
   "metadata": {},
   "outputs": [],
   "source": [
    "df = pd.read_csv(r\"/data/numerai/statistics/classic/app/csv/v2leaderboard.csv\",sep=\";\")\n",
    "df.to_parquet(r\"/data/numerai/statistics/classic/app/parquet/v2leaderboard.parquet\")"
   ]
  },
  {
   "cell_type": "code",
   "execution_count": null,
   "metadata": {},
   "outputs": [],
   "source": []
  },
  {
   "cell_type": "code",
   "execution_count": null,
   "metadata": {},
   "outputs": [],
   "source": []
  }
 ],
 "metadata": {
  "kernelspec": {
   "display_name": "Python 3",
   "language": "python",
   "name": "python3"
  },
  "language_info": {
   "codemirror_mode": {
    "name": "ipython",
    "version": 3
   },
   "file_extension": ".py",
   "mimetype": "text/x-python",
   "name": "python",
   "nbconvert_exporter": "python",
   "pygments_lexer": "ipython3",
   "version": "3.8.5"
  }
 },
 "nbformat": 4,
 "nbformat_minor": 4
}
